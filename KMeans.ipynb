{
 "cells": [
  {
   "cell_type": "code",
   "execution_count": 1,
   "metadata": {},
   "outputs": [
    {
     "name": "stdout",
     "output_type": "stream",
     "text": [
      "--2018-06-26 14:23:57--  https://s3.amazonaws.com/crimexyz/crime.csv\n",
      "Resolving s3.amazonaws.com (s3.amazonaws.com)... 52.216.166.61\n",
      "Connecting to s3.amazonaws.com (s3.amazonaws.com)|52.216.166.61|:443... connected.\n",
      "HTTP request sent, awaiting response... 200 OK\n",
      "Length: 1395 (1.4K) [text/csv]\n",
      "Saving to: ‘crime.csv.9’\n",
      "\n",
      "crime.csv.9         100%[===================>]   1.36K  --.-KB/s    in 0s      \n",
      "\n",
      "2018-06-26 14:23:57 (91.2 MB/s) - ‘crime.csv.9’ saved [1395/1395]\n",
      "\n"
     ]
    }
   ],
   "source": [
    "# This Notebook is an exercise by following Walker Rower tutorial at https://www.bmc.com/blogs/amazon-sagemaker/\n",
    "%sc\n",
    "!wget 'https://s3.amazonaws.com/crimexyz/crime.csv'"
   ]
  },
  {
   "cell_type": "code",
   "execution_count": 2,
   "metadata": {},
   "outputs": [
    {
     "name": "stdout",
     "output_type": "stream",
     "text": [
      "        State  crimeCluster  Murder  Assault  UrbanPop  Rape\n",
      "0     Alabama             4    13.2      236        58  21.2\n",
      "1      Alaska             4    10.0      263        48  44.5\n",
      "2     Arizona             4     8.1      294        80  31.0\n",
      "3    Arkansas             3     8.8      190        50  19.5\n",
      "4  California             4     9.0      276        91  40.6\n"
     ]
    }
   ],
   "source": [
    "import pandas as pd\n",
    "import numpy as np\n",
    "import matplotlib.pyplot as plt\n",
    "crime = pd.read_csv('crime.csv', header=0)\n",
    "print(crime.head())"
   ]
  },
  {
   "cell_type": "code",
   "execution_count": 3,
   "metadata": {},
   "outputs": [],
   "source": [
    "def stateToNumber(s):\n",
    "    l = 0\n",
    "    for x in s:\n",
    "        l = l + int(hex(ord(x)),16)\n",
    "    return l\n"
   ]
  },
  {
   "cell_type": "code",
   "execution_count": 4,
   "metadata": {},
   "outputs": [
    {
     "data": {
      "text/html": [
       "<div>\n",
       "<style scoped>\n",
       "    .dataframe tbody tr th:only-of-type {\n",
       "        vertical-align: middle;\n",
       "    }\n",
       "\n",
       "    .dataframe tbody tr th {\n",
       "        vertical-align: top;\n",
       "    }\n",
       "\n",
       "    .dataframe thead th {\n",
       "        text-align: right;\n",
       "    }\n",
       "</style>\n",
       "<table border=\"1\" class=\"dataframe\">\n",
       "  <thead>\n",
       "    <tr style=\"text-align: right;\">\n",
       "      <th></th>\n",
       "      <th>State</th>\n",
       "      <th>crimeCluster</th>\n",
       "      <th>Murder</th>\n",
       "      <th>Assault</th>\n",
       "      <th>UrbanPop</th>\n",
       "      <th>Rape</th>\n",
       "    </tr>\n",
       "  </thead>\n",
       "  <tbody>\n",
       "    <tr>\n",
       "      <th>0</th>\n",
       "      <td>671</td>\n",
       "      <td>4</td>\n",
       "      <td>13.2</td>\n",
       "      <td>236</td>\n",
       "      <td>58</td>\n",
       "      <td>21.2</td>\n",
       "    </tr>\n",
       "    <tr>\n",
       "      <th>1</th>\n",
       "      <td>589</td>\n",
       "      <td>4</td>\n",
       "      <td>10.0</td>\n",
       "      <td>263</td>\n",
       "      <td>48</td>\n",
       "      <td>44.5</td>\n",
       "    </tr>\n",
       "    <tr>\n",
       "      <th>2</th>\n",
       "      <td>724</td>\n",
       "      <td>4</td>\n",
       "      <td>8.1</td>\n",
       "      <td>294</td>\n",
       "      <td>80</td>\n",
       "      <td>31.0</td>\n",
       "    </tr>\n",
       "    <tr>\n",
       "      <th>3</th>\n",
       "      <td>820</td>\n",
       "      <td>3</td>\n",
       "      <td>8.8</td>\n",
       "      <td>190</td>\n",
       "      <td>50</td>\n",
       "      <td>19.5</td>\n",
       "    </tr>\n",
       "    <tr>\n",
       "      <th>4</th>\n",
       "      <td>1016</td>\n",
       "      <td>4</td>\n",
       "      <td>9.0</td>\n",
       "      <td>276</td>\n",
       "      <td>91</td>\n",
       "      <td>40.6</td>\n",
       "    </tr>\n",
       "  </tbody>\n",
       "</table>\n",
       "</div>"
      ],
      "text/plain": [
       "   State  crimeCluster  Murder  Assault  UrbanPop  Rape\n",
       "0    671             4    13.2      236        58  21.2\n",
       "1    589             4    10.0      263        48  44.5\n",
       "2    724             4     8.1      294        80  31.0\n",
       "3    820             3     8.8      190        50  19.5\n",
       "4   1016             4     9.0      276        91  40.6"
      ]
     },
     "execution_count": 4,
     "metadata": {},
     "output_type": "execute_result"
    }
   ],
   "source": [
    "xref = pd.DataFrame(crime['State'])\n",
    "\n",
    "crime['State']=crime['State'].apply(lambda x: stateToNumber(x))\n",
    "\n",
    "crime.head()\n"
   ]
  },
  {
   "cell_type": "code",
   "execution_count": 5,
   "metadata": {},
   "outputs": [
    {
     "name": "stderr",
     "output_type": "stream",
     "text": [
      "/home/ec2-user/anaconda3/envs/python3/lib/python3.6/site-packages/ipykernel/__main__.py:1: FutureWarning: Method .as_matrix will be removed in a future version. Use .values instead.\n",
      "  if __name__ == '__main__':\n"
     ]
    }
   ],
   "source": [
    "crimeArray = crime.as_matrix().astype(np.float32)"
   ]
  },
  {
   "cell_type": "code",
   "execution_count": 6,
   "metadata": {},
   "outputs": [
    {
     "data": {
      "text/plain": [
       "(50, 6)"
      ]
     },
     "execution_count": 6,
     "metadata": {},
     "output_type": "execute_result"
    }
   ],
   "source": [
    "crimeArray.shape"
   ]
  },
  {
   "cell_type": "code",
   "execution_count": 7,
   "metadata": {},
   "outputs": [
    {
     "name": "stdout",
     "output_type": "stream",
     "text": [
      "arn:aws:iam::007604646786:role/xyzrole\n",
      "The training data will be uploaded to: s3://outputxyz/my_kmeans_example_data\n",
      "The training artifacts will be uploaded to: s3://outputxyz/my_kmeans_example_output\n"
     ]
    }
   ],
   "source": [
    "from sagemaker import KMeans\n",
    "from sagemaker import get_execution_role\n",
    "\n",
    "role = get_execution_role()\n",
    "print(role)\n",
    "\n",
    "bucket = \"outputxyz\" # I have to make is public (rw) for while\n",
    "data_location = \"outputxyz\"\n",
    "\n",
    "# 2018-06-25 todo\n",
    "data_location = 's3://{}/my_kmeans_example_data'.format(bucket)\n",
    "output_location = 's3://{}/my_kmeans_example_output'.format(bucket)\n",
    "\n",
    "print('The training data will be uploaded to: {}'.format(data_location))\n",
    "print('The training artifacts will be uploaded to: {}'.format(output_location))\n",
    "\n",
    "kmeans = KMeans(role=role,\n",
    "               train_instance_count=1,\n",
    "               train_instance_type='ml.c4.8xlarge',\n",
    "               output_path=output_location,\n",
    "               k=10,\n",
    "               data_location=data_location)"
   ]
  },
  {
   "cell_type": "code",
   "execution_count": 8,
   "metadata": {},
   "outputs": [],
   "source": [
    "slice=crimeArray[:,1:5]"
   ]
  },
  {
   "cell_type": "code",
   "execution_count": 9,
   "metadata": {},
   "outputs": [
    {
     "name": "stderr",
     "output_type": "stream",
     "text": [
      "INFO:sagemaker:Creating training-job with name: kmeans-2018-06-26-14-23-59-205\n"
     ]
    },
    {
     "name": "stdout",
     "output_type": "stream",
     "text": [
      "........................\n",
      "\u001b[31mDocker entrypoint called with argument(s): train\u001b[0m\n",
      "\u001b[31m[06/26/2018 14:27:48 INFO 140531884898112] Reading default configuration from /opt/amazon/lib/python2.7/site-packages/algorithm/default-input.json: {u'_tuning_objective_metric': u'', u'_num_gpus': u'auto', u'local_lloyd_num_trials': u'auto', u'_log_level': u'info', u'_kvstore': u'auto', u'local_lloyd_init_method': u'kmeans++', u'force_dense': u'true', u'epochs': u'1', u'init_method': u'random', u'local_lloyd_tol': u'0.0001', u'local_lloyd_max_iter': u'300', u'_disable_wait_to_read': u'false', u'extra_center_factor': u'auto', u'eval_metrics': u'[\"msd\"]', u'_num_kv_servers': u'1', u'mini_batch_size': u'5000', u'half_life_time_size': u'0', u'_num_slices': u'1'}\u001b[0m\n",
      "\u001b[31m[06/26/2018 14:27:48 INFO 140531884898112] Reading provided configuration from /opt/ml/input/config/hyperparameters.json: {u'feature_dim': u'4', u'k': u'10', u'force_dense': u'True'}\u001b[0m\n",
      "\u001b[31m[06/26/2018 14:27:48 INFO 140531884898112] Final configuration: {u'k': u'10', u'_tuning_objective_metric': u'', u'_num_gpus': u'auto', u'local_lloyd_num_trials': u'auto', u'_log_level': u'info', u'_kvstore': u'auto', u'local_lloyd_init_method': u'kmeans++', u'force_dense': u'True', u'epochs': u'1', u'init_method': u'random', u'feature_dim': u'4', u'local_lloyd_tol': u'0.0001', u'local_lloyd_max_iter': u'300', u'_disable_wait_to_read': u'false', u'extra_center_factor': u'auto', u'eval_metrics': u'[\"msd\"]', u'_num_kv_servers': u'1', u'mini_batch_size': u'5000', u'half_life_time_size': u'0', u'_num_slices': u'1'}\u001b[0m\n",
      "\u001b[31m[06/26/2018 14:27:48 WARNING 140531884898112] Loggers have already been setup.\u001b[0m\n",
      "\u001b[31m[06/26/2018 14:27:48 INFO 140531884898112] Using default worker.\u001b[0m\n",
      "\u001b[31m[06/26/2018 14:27:48 INFO 140531884898112] Loaded iterator creator application/x-recordio-protobuf for content type ('application/x-recordio-protobuf', '1.0')\u001b[0m\n",
      "\u001b[31m[06/26/2018 14:27:48 INFO 140531884898112] Create Store: local\u001b[0m\n",
      "\u001b[31m[06/26/2018 14:27:48 INFO 140531884898112] nvidia-smi took: 0.025251865387 secs to identify 0 gpus\u001b[0m\n",
      "\u001b[31m[06/26/2018 14:27:48 INFO 140531884898112] Number of GPUs being used: 0\u001b[0m\n",
      "\u001b[31m[06/26/2018 14:27:48 INFO 140531884898112] Setting up with params: {u'k': u'10', u'_tuning_objective_metric': u'', u'_num_gpus': u'auto', u'local_lloyd_num_trials': u'auto', u'_log_level': u'info', u'_kvstore': u'auto', u'local_lloyd_init_method': u'kmeans++', u'force_dense': u'True', u'epochs': u'1', u'init_method': u'random', u'feature_dim': u'4', u'local_lloyd_tol': u'0.0001', u'local_lloyd_max_iter': u'300', u'_disable_wait_to_read': u'false', u'extra_center_factor': u'auto', u'eval_metrics': u'[\"msd\"]', u'_num_kv_servers': u'1', u'mini_batch_size': u'5000', u'half_life_time_size': u'0', u'_num_slices': u'1'}\u001b[0m\n",
      "\u001b[31m/opt/amazon/lib/python2.7/site-packages/ai_algorithms_sdk/config/config_helper.py:172: DeprecationWarning: deprecated\n",
      "  warnings.warn(\"deprecated\", DeprecationWarning)\u001b[0m\n",
      "\u001b[31m/opt/amazon/lib/python2.7/site-packages/ai_algorithms_sdk/config/config_helper.py:122: DeprecationWarning: deprecated\n",
      "  warnings.warn(\"deprecated\", DeprecationWarning)\u001b[0m\n",
      "\u001b[31m[06/26/2018 14:27:48 INFO 140531884898112] Number of GPUs being used: 0\u001b[0m\n",
      "\u001b[31m[06/26/2018 14:27:48 INFO 140531884898112] number of center slices 1\u001b[0m\n",
      "\u001b[31m[06/26/2018 14:27:48 WARNING 140531884898112] Batch size 5000 is bigger than the first batch data. Effective batch size used to initialize is 50\u001b[0m\n",
      "\u001b[31m#metrics {\"Metrics\": {\"Max Batches Seen Between Resets\": {\"count\": 1, \"max\": 1, \"sum\": 1.0, \"min\": 1}, \"Number of Batches Since Last Reset\": {\"count\": 1, \"max\": 1, \"sum\": 1.0, \"min\": 1}, \"Number of Records Since Last Reset\": {\"count\": 1, \"max\": 50, \"sum\": 50.0, \"min\": 50}, \"Total Batches Seen\": {\"count\": 1, \"max\": 1, \"sum\": 1.0, \"min\": 1}, \"Total Records Seen\": {\"count\": 1, \"max\": 50, \"sum\": 50.0, \"min\": 50}, \"Max Records Seen Between Resets\": {\"count\": 1, \"max\": 50, \"sum\": 50.0, \"min\": 50}, \"Reset Count\": {\"count\": 1, \"max\": 0, \"sum\": 0.0, \"min\": 0}}, \"EndTime\": 1530023268.725069, \"Dimensions\": {\"Host\": \"algo-1\", \"Meta\": \"init_train_data_iter\", \"Operation\": \"training\", \"Algorithm\": \"AWS/KMeansWebscale\"}, \"StartTime\": 1530023268.725041}\n",
      "\u001b[0m\n",
      "\u001b[31m[06/26/2018 14:27:48 INFO 140531884898112] processed a total of 50 examples\u001b[0m\n",
      "\u001b[31m[06/26/2018 14:27:48 INFO 140531884898112] #progress_metric: host=algo-1, completed 100 % of epochs\u001b[0m\n",
      "\u001b[31m#metrics {\"Metrics\": {\"Max Batches Seen Between Resets\": {\"count\": 1, \"max\": 1, \"sum\": 1.0, \"min\": 1}, \"Number of Batches Since Last Reset\": {\"count\": 1, \"max\": 1, \"sum\": 1.0, \"min\": 1}, \"Number of Records Since Last Reset\": {\"count\": 1, \"max\": 50, \"sum\": 50.0, \"min\": 50}, \"Total Batches Seen\": {\"count\": 1, \"max\": 2, \"sum\": 2.0, \"min\": 2}, \"Total Records Seen\": {\"count\": 1, \"max\": 100, \"sum\": 100.0, \"min\": 100}, \"Max Records Seen Between Resets\": {\"count\": 1, \"max\": 50, \"sum\": 50.0, \"min\": 50}, \"Reset Count\": {\"count\": 1, \"max\": 1, \"sum\": 1.0, \"min\": 1}}, \"EndTime\": 1530023268.77451, \"Dimensions\": {\"Host\": \"algo-1\", \"Meta\": \"training_data_iter\", \"Operation\": \"training\", \"Algorithm\": \"AWS/KMeansWebscale\", \"epoch\": 0}, \"StartTime\": 1530023268.725262}\n",
      "\u001b[0m\n",
      "\u001b[31m[06/26/2018 14:27:48 INFO 140531884898112] #throughput_metric: host=algo-1, train throughput=1013.27354953 records/second\u001b[0m\n",
      "\u001b[31m[06/26/2018 14:27:48 WARNING 140531884898112] wait_for_all_workers will not sync workers since the kv store is not running distributed\u001b[0m\n",
      "\u001b[31m[06/26/2018 14:27:48 INFO 140531884898112] shrinking 100 centers into 10\u001b[0m\n",
      "\u001b[31m[06/26/2018 14:27:48 INFO 140531884898112] local kmeans attempt #0. Current mean square distance 148.167145\u001b[0m\n",
      "\u001b[31m[06/26/2018 14:27:48 INFO 140531884898112] local kmeans attempt #1. Current mean square distance 161.062546\u001b[0m\n",
      "\u001b[31m[06/26/2018 14:27:48 INFO 140531884898112] local kmeans attempt #2. Current mean square distance 144.536224\u001b[0m\n",
      "\u001b[31m[06/26/2018 14:27:48 INFO 140531884898112] local kmeans attempt #3. Current mean square distance 149.770523\u001b[0m\n",
      "\u001b[31m[06/26/2018 14:27:48 INFO 140531884898112] local kmeans attempt #4. Current mean square distance 133.832428\u001b[0m\n",
      "\u001b[31m[06/26/2018 14:27:48 INFO 140531884898112] local kmeans attempt #5. Current mean square distance 131.765121\u001b[0m\n",
      "\u001b[31m[06/26/2018 14:27:48 INFO 140531884898112] local kmeans attempt #6. Current mean square distance 142.441544\u001b[0m\n",
      "\u001b[31m[06/26/2018 14:27:48 INFO 140531884898112] local kmeans attempt #7. Current mean square distance 152.975891\u001b[0m\n",
      "\u001b[31m[06/26/2018 14:27:48 INFO 140531884898112] local kmeans attempt #8. Current mean square distance 174.636337\u001b[0m\n",
      "\u001b[31m[06/26/2018 14:27:48 INFO 140531884898112] local kmeans attempt #9. Current mean square distance 145.305878\u001b[0m\n",
      "\u001b[31m[06/26/2018 14:27:48 INFO 140531884898112] finished shrinking process. Mean Square Distance = 132\u001b[0m\n",
      "\u001b[31m[06/26/2018 14:27:48 INFO 140531884898112] #quality_metric: host=algo-1, train msd <loss>=131.76512146\u001b[0m\n",
      "\u001b[31m[06/26/2018 14:27:48 INFO 140531884898112] gradient: cluster center took: 33.4353%, (0.016863 secs)\u001b[0m\n",
      "\u001b[31m[06/26/2018 14:27:48 INFO 140531884898112] compute all data-center distances: point norm took: 26.1487%, (0.013188 secs)\u001b[0m\n",
      "\u001b[31m[06/26/2018 14:27:48 INFO 140531884898112] compute all data-center distances: inner product took: 20.7493%, (0.010465 secs)\u001b[0m\n",
      "\u001b[31m[06/26/2018 14:27:48 INFO 140531884898112] predict compute msd took: 4.8776%, (0.002460 secs)\u001b[0m\n",
      "\u001b[31m[06/26/2018 14:27:48 INFO 140531884898112] collect from kv store took: 3.2438%, (0.001636 secs)\u001b[0m\n",
      "\u001b[31m[06/26/2018 14:27:48 INFO 140531884898112] splitting centers key-value pair took: 3.0812%, (0.001554 secs)\u001b[0m\n",
      "\u001b[31m[06/26/2018 14:27:48 INFO 140531884898112] gradient: one_hot took: 2.7938%, (0.001409 secs)\u001b[0m\n",
      "\u001b[31m[06/26/2018 14:27:48 INFO 140531884898112] batch data loading with context took: 2.4865%, (0.001254 secs)\u001b[0m\n",
      "\u001b[31m[06/26/2018 14:27:48 INFO 140531884898112] compute all data-center distances: center norm took: 1.3879%, (0.000700 secs)\u001b[0m\n",
      "\u001b[31m[06/26/2018 14:27:48 INFO 140531884898112] update state and report convergance took: 0.8840%, (0.000446 secs)\u001b[0m\n",
      "\u001b[31m[06/26/2018 14:27:48 INFO 140531884898112] gradient: cluster size  took: 0.5252%, (0.000265 secs)\u001b[0m\n",
      "\u001b[31m[06/26/2018 14:27:48 INFO 140531884898112] update set-up time took: 0.3073%, (0.000155 secs)\u001b[0m\n",
      "\u001b[31m[06/26/2018 14:27:48 INFO 140531884898112] predict minus dist took: 0.0794%, (0.000040 secs)\u001b[0m\n",
      "\u001b[31m[06/26/2018 14:27:48 INFO 140531884898112] TOTAL took: 0.0504350662231\u001b[0m\n",
      "\u001b[31m[06/26/2018 14:27:48 INFO 140531884898112] Number of GPUs being used: 0\u001b[0m\n",
      "\u001b[31m#metrics {\"Metrics\": {\"finalize.time\": {\"count\": 1, \"max\": 184.3700408935547, \"sum\": 184.3700408935547, \"min\": 184.3700408935547}, \"initialize.time\": {\"count\": 1, \"max\": 7.784843444824219, \"sum\": 7.784843444824219, \"min\": 7.784843444824219}, \"model.serialize.time\": {\"count\": 1, \"max\": 0.13399124145507812, \"sum\": 0.13399124145507812, \"min\": 0.13399124145507812}, \"update.time\": {\"count\": 1, \"max\": 49.096107482910156, \"sum\": 49.096107482910156, \"min\": 49.096107482910156}, \"epochs\": {\"count\": 1, \"max\": 1, \"sum\": 1.0, \"min\": 1}, \"state.serialize.time\": {\"count\": 1, \"max\": 0.21910667419433594, \"sum\": 0.21910667419433594, \"min\": 0.21910667419433594}, \"_shrink.time\": {\"count\": 1, \"max\": 183.3939552307129, \"sum\": 183.3939552307129, \"min\": 183.3939552307129}}, \"EndTime\": 1530023268.959582, \"Dimensions\": {\"Host\": \"algo-1\", \"Operation\": \"training\", \"Algorithm\": \"AWS/KMeansWebscale\"}, \"StartTime\": 1530023268.70332}\n",
      "\u001b[0m\n",
      "\u001b[31m[06/26/2018 14:27:48 INFO 140531884898112] Test data is not provided.\u001b[0m\n",
      "\u001b[31m#metrics {\"Metrics\": {\"totaltime\": {\"count\": 1, \"max\": 322.8919506072998, \"sum\": 322.8919506072998, \"min\": 322.8919506072998}, \"setuptime\": {\"count\": 1, \"max\": 15.162944793701172, \"sum\": 15.162944793701172, \"min\": 15.162944793701172}}, \"EndTime\": 1530023268.961124, \"Dimensions\": {\"Host\": \"algo-1\", \"Operation\": \"training\", \"Algorithm\": \"AWS/KMeansWebscale\"}, \"StartTime\": 1530023268.959652}\n",
      "\u001b[0m\n"
     ]
    },
    {
     "name": "stdout",
     "output_type": "stream",
     "text": [
      "===== Job Complete =====\n",
      "Billable seconds: 104\n",
      "CPU times: user 372 ms, sys: 28 ms, total: 400 ms\n",
      "Wall time: 4min 13s\n"
     ]
    }
   ],
   "source": [
    "%%time\n",
    "kmeans.fit(kmeans.record_set(slice))"
   ]
  },
  {
   "cell_type": "code",
   "execution_count": 10,
   "metadata": {},
   "outputs": [
    {
     "name": "stderr",
     "output_type": "stream",
     "text": [
      "INFO:sagemaker:Creating model with name: kmeans-2018-06-26-15-07-47-889\n",
      "INFO:sagemaker:Creating endpoint with name kmeans-2018-06-26-14-23-59-205\n"
     ]
    },
    {
     "name": "stdout",
     "output_type": "stream",
     "text": [
      "---------------------------------------------------------------!CPU times: user 248 ms, sys: 24 ms, total: 272 ms\n",
      "Wall time: 5min 20s\n"
     ]
    }
   ],
   "source": [
    "%%time\n",
    "kmeans_predictor = kmeans.deploy(initial_instance_count=1,instance_type='ml.m4.xlarge')"
   ]
  },
  {
   "cell_type": "code",
   "execution_count": 11,
   "metadata": {},
   "outputs": [
    {
     "data": {
      "text/plain": [
       "array([[  4. ,  13.2, 236. ,  58. ],\n",
       "       [  4. ,  10. , 263. ,  48. ],\n",
       "       [  4. ,   8.1, 294. ,  80. ],\n",
       "       [  3. ,   8.8, 190. ,  50. ],\n",
       "       [  4. ,   9. , 276. ,  91. ],\n",
       "       [  3. ,   7.9, 204. ,  78. ],\n",
       "       [  2. ,   3.3, 110. ,  77. ],\n",
       "       [  4. ,   5.9, 238. ,  72. ],\n",
       "       [  4. ,  15.4, 335. ,  80. ],\n",
       "       [  3. ,  17.4, 211. ,  60. ],\n",
       "       [  1. ,   5.3,  46. ,  83. ],\n",
       "       [  2. ,   2.6, 120. ,  54. ],\n",
       "       [  4. ,  10.4, 249. ,  83. ],\n",
       "       [  2. ,   7.2, 113. ,  65. ],\n",
       "       [  1. ,   2.2,  56. ,  57. ],\n",
       "       [  2. ,   6. , 115. ,  66. ],\n",
       "       [  2. ,   9.7, 109. ,  52. ],\n",
       "       [  4. ,  15.4, 249. ,  66. ],\n",
       "       [  1. ,   2.1,  83. ,  51. ],\n",
       "       [  4. ,  11.3, 300. ,  67. ],\n",
       "       [  3. ,   4.4, 149. ,  85. ],\n",
       "       [  4. ,  12.1, 255. ,  74. ],\n",
       "       [  1. ,   2.7,  72. ,  66. ],\n",
       "       [  4. ,  16.1, 259. ,  44. ],\n",
       "       [  3. ,   9. , 178. ,  70. ],\n",
       "       [  2. ,   6. , 109. ,  53. ],\n",
       "       [  2. ,   4.3, 102. ,  62. ],\n",
       "       [  4. ,  12.2, 252. ,  81. ],\n",
       "       [  1. ,   2.1,  57. ,  56. ],\n",
       "       [  3. ,   7.4, 159. ,  89. ],\n",
       "       [  4. ,  11.4, 285. ,  70. ],\n",
       "       [  4. ,  11.1, 254. ,  86. ],\n",
       "       [  4. ,  13. , 337. ,  45. ],\n",
       "       [  1. ,   0.8,  45. ,  44. ],\n",
       "       [  2. ,   7.3, 120. ,  75. ],\n",
       "       [  3. ,   6.6, 151. ,  68. ],\n",
       "       [  3. ,   4.9, 159. ,  67. ],\n",
       "       [  2. ,   6.3, 106. ,  72. ],\n",
       "       [  3. ,   3.4, 174. ,  87. ],\n",
       "       [  4. ,  14.4, 279. ,  48. ],\n",
       "       [  1. ,   3.8,  86. ,  45. ],\n",
       "       [  3. ,  13.2, 188. ,  59. ],\n",
       "       [  3. ,  12.7, 201. ,  80. ],\n",
       "       [  2. ,   3.2, 120. ,  80. ],\n",
       "       [  1. ,   2.2,  48. ,  32. ],\n",
       "       [  3. ,   8.5, 156. ,  63. ],\n",
       "       [  3. ,   4. , 145. ,  73. ],\n",
       "       [  1. ,   5.7,  81. ,  39. ],\n",
       "       [  1. ,   2.6,  53. ,  66. ],\n",
       "       [  3. ,   6.8, 161. ,  60. ]], dtype=float32)"
      ]
     },
     "execution_count": 11,
     "metadata": {},
     "output_type": "execute_result"
    }
   ],
   "source": [
    "slice=crimeArray[:,1:5]\n",
    "slice.shape\n",
    "slice"
   ]
  },
  {
   "cell_type": "code",
   "execution_count": 12,
   "metadata": {},
   "outputs": [],
   "source": [
    "s=slice[1:2]"
   ]
  },
  {
   "cell_type": "code",
   "execution_count": 16,
   "metadata": {},
   "outputs": [
    {
     "name": "stdout",
     "output_type": "stream",
     "text": [
      "{'State': 671, 'StateCode': 'Alabama', 'closest_cluster': 7.0, 'crimeCluster': 4, 'Murder': 13.2, 'Assault': 236, 'UrbanPop': 58, 'Rape': 21.2}\n",
      "CPU times: user 16 ms, sys: 0 ns, total: 16 ms\n",
      "Wall time: 139 ms\n"
     ]
    }
   ],
   "source": [
    "%%time\n",
    "result = kmeans_predictor.predict(s)\n",
    "clusters = [r.label['closest_cluster'].float32_tensor.values[0] for r in result]\n",
    "i = 0\n",
    "\n",
    "for r in result:\n",
    "    out = {\n",
    "        \"State\" : crime['State'].iloc[i],\n",
    "        \"StateCode\" : xref['State'].iloc[i],\n",
    "        \"closest_cluster\" : r.label['closest_cluster'].float32_tensor.values[0],\n",
    "        \"crimeCluster\" : crime['crimeCluster'].iloc[i],\n",
    "        \"Murder\" : crime['Murder'].iloc[i],\n",
    "        \"Assault\" : crime['Assault'].iloc[i],\n",
    "        \"UrbanPop\" : crime['UrbanPop'].iloc[i],\n",
    "        \"Rape\" : crime['Rape'].iloc[i]\n",
    "    }\n",
    "    print(out)\n",
    "    i = i + 1\n",
    "    "
   ]
  },
  {
   "cell_type": "code",
   "execution_count": 17,
   "metadata": {},
   "outputs": [
    {
     "name": "stdout",
     "output_type": "stream",
     "text": [
      "{'State': 671, 'StateCode': 'Alabama', 'closest_cluster': 1.0, 'crimeCluster': 4, 'Murder': 13.2, 'Assault': 236, 'UrbanPop': 58, 'Rape': 21.2}\n",
      "{'State': 589, 'StateCode': 'Alaska', 'closest_cluster': 7.0, 'crimeCluster': 4, 'Murder': 10.0, 'Assault': 263, 'UrbanPop': 48, 'Rape': 44.5}\n",
      "{'State': 724, 'StateCode': 'Arizona', 'closest_cluster': 5.0, 'crimeCluster': 4, 'Murder': 8.1, 'Assault': 294, 'UrbanPop': 80, 'Rape': 31.0}\n",
      "{'State': 820, 'StateCode': 'Arkansas', 'closest_cluster': 3.0, 'crimeCluster': 3, 'Murder': 8.8, 'Assault': 190, 'UrbanPop': 50, 'Rape': 19.5}\n",
      "{'State': 1016, 'StateCode': 'California', 'closest_cluster': 1.0, 'crimeCluster': 4, 'Murder': 9.0, 'Assault': 276, 'UrbanPop': 91, 'Rape': 40.6}\n",
      "{'State': 819, 'StateCode': 'Colorado', 'closest_cluster': 3.0, 'crimeCluster': 3, 'Murder': 7.9, 'Assault': 204, 'UrbanPop': 78, 'Rape': 38.7}\n",
      "{'State': 1151, 'StateCode': 'Connecticut', 'closest_cluster': 4.0, 'crimeCluster': 2, 'Murder': 3.3, 'Assault': 110, 'UrbanPop': 77, 'Rape': 11.1}\n",
      "{'State': 805, 'StateCode': 'Delaware', 'closest_cluster': 1.0, 'crimeCluster': 4, 'Murder': 5.9, 'Assault': 238, 'UrbanPop': 72, 'Rape': 15.8}\n",
      "{'State': 705, 'StateCode': 'Florida', 'closest_cluster': 5.0, 'crimeCluster': 4, 'Murder': 15.4, 'Assault': 335, 'UrbanPop': 80, 'Rape': 31.9}\n",
      "{'State': 702, 'StateCode': 'Georgia', 'closest_cluster': 3.0, 'crimeCluster': 3, 'Murder': 17.4, 'Assault': 211, 'UrbanPop': 60, 'Rape': 25.8}\n",
      "{'State': 595, 'StateCode': 'Hawaii', 'closest_cluster': 9.0, 'crimeCluster': 1, 'Murder': 5.3, 'Assault': 46, 'UrbanPop': 83, 'Rape': 20.2}\n",
      "{'State': 485, 'StateCode': 'Idaho', 'closest_cluster': 4.0, 'crimeCluster': 2, 'Murder': 2.6, 'Assault': 120, 'UrbanPop': 54, 'Rape': 14.2}\n",
      "{'State': 835, 'StateCode': 'Illinois', 'closest_cluster': 1.0, 'crimeCluster': 4, 'Murder': 10.4, 'Assault': 249, 'UrbanPop': 83, 'Rape': 24.0}\n",
      "{'State': 692, 'StateCode': 'Indiana', 'closest_cluster': 4.0, 'crimeCluster': 2, 'Murder': 7.2, 'Assault': 113, 'UrbanPop': 65, 'Rape': 21.0}\n",
      "{'State': 400, 'StateCode': 'Iowa', 'closest_cluster': 9.0, 'crimeCluster': 1, 'Murder': 2.2, 'Assault': 56, 'UrbanPop': 57, 'Rape': 11.3}\n",
      "{'State': 609, 'StateCode': 'Kansas', 'closest_cluster': 4.0, 'crimeCluster': 2, 'Murder': 6.0, 'Assault': 115, 'UrbanPop': 66, 'Rape': 18.0}\n",
      "{'State': 846, 'StateCode': 'Kentucky', 'closest_cluster': 4.0, 'crimeCluster': 2, 'Murder': 9.7, 'Assault': 109, 'UrbanPop': 52, 'Rape': 16.3}\n",
      "{'State': 933, 'StateCode': 'Louisiana', 'closest_cluster': 1.0, 'crimeCluster': 4, 'Murder': 15.4, 'Assault': 249, 'UrbanPop': 66, 'Rape': 22.2}\n",
      "{'State': 490, 'StateCode': 'Maine', 'closest_cluster': 6.0, 'crimeCluster': 1, 'Murder': 2.1, 'Assault': 83, 'UrbanPop': 51, 'Rape': 7.8}\n",
      "{'State': 824, 'StateCode': 'Maryland', 'closest_cluster': 5.0, 'crimeCluster': 4, 'Murder': 11.3, 'Assault': 300, 'UrbanPop': 67, 'Rape': 27.8}\n",
      "{'State': 1384, 'StateCode': 'Massachusetts', 'closest_cluster': 2.0, 'crimeCluster': 3, 'Murder': 4.4, 'Assault': 149, 'UrbanPop': 85, 'Rape': 16.3}\n",
      "{'State': 800, 'StateCode': 'Michigan', 'closest_cluster': 1.0, 'crimeCluster': 4, 'Murder': 12.1, 'Assault': 255, 'UrbanPop': 74, 'Rape': 35.1}\n",
      "{'State': 942, 'StateCode': 'Minnesota', 'closest_cluster': 9.0, 'crimeCluster': 1, 'Murder': 2.7, 'Assault': 72, 'UrbanPop': 66, 'Rape': 14.9}\n",
      "{'State': 1181, 'StateCode': 'Mississippi', 'closest_cluster': 7.0, 'crimeCluster': 4, 'Murder': 16.1, 'Assault': 259, 'UrbanPop': 44, 'Rape': 17.1}\n",
      "{'State': 859, 'StateCode': 'Missouri', 'closest_cluster': 3.0, 'crimeCluster': 3, 'Murder': 9.0, 'Assault': 178, 'UrbanPop': 70, 'Rape': 28.2}\n",
      "{'State': 718, 'StateCode': 'Montana', 'closest_cluster': 4.0, 'crimeCluster': 2, 'Murder': 6.0, 'Assault': 109, 'UrbanPop': 53, 'Rape': 16.4}\n",
      "{'State': 807, 'StateCode': 'Nebraska', 'closest_cluster': 4.0, 'crimeCluster': 2, 'Murder': 4.3, 'Assault': 102, 'UrbanPop': 62, 'Rape': 16.5}\n",
      "{'State': 591, 'StateCode': 'Nevada', 'closest_cluster': 1.0, 'crimeCluster': 4, 'Murder': 12.2, 'Assault': 252, 'UrbanPop': 81, 'Rape': 46.0}\n",
      "{'State': 1259, 'StateCode': 'New Hampshire', 'closest_cluster': 9.0, 'crimeCluster': 1, 'Murder': 2.1, 'Assault': 57, 'UrbanPop': 56, 'Rape': 9.5}\n",
      "{'State': 956, 'StateCode': 'New Jersey', 'closest_cluster': 2.0, 'crimeCluster': 3, 'Murder': 7.4, 'Assault': 159, 'UrbanPop': 89, 'Rape': 18.8}\n",
      "{'State': 943, 'StateCode': 'New Mexico', 'closest_cluster': 5.0, 'crimeCluster': 4, 'Murder': 11.4, 'Assault': 285, 'UrbanPop': 70, 'Rape': 32.1}\n",
      "{'State': 751, 'StateCode': 'New York', 'closest_cluster': 1.0, 'crimeCluster': 4, 'Murder': 11.1, 'Assault': 254, 'UrbanPop': 86, 'Rape': 26.1}\n",
      "{'State': 1364, 'StateCode': 'North Carolina', 'closest_cluster': 5.0, 'crimeCluster': 4, 'Murder': 13.0, 'Assault': 337, 'UrbanPop': 45, 'Rape': 16.1}\n",
      "{'State': 1151, 'StateCode': 'North Dakota', 'closest_cluster': 0.0, 'crimeCluster': 1, 'Murder': 0.8, 'Assault': 45, 'UrbanPop': 44, 'Rape': 7.3}\n",
      "{'State': 399, 'StateCode': 'Ohio', 'closest_cluster': 4.0, 'crimeCluster': 2, 'Murder': 7.3, 'Assault': 120, 'UrbanPop': 75, 'Rape': 21.4}\n",
      "{'State': 812, 'StateCode': 'Oklahoma', 'closest_cluster': 8.0, 'crimeCluster': 3, 'Murder': 6.6, 'Assault': 151, 'UrbanPop': 68, 'Rape': 20.0}\n",
      "{'State': 618, 'StateCode': 'Oregon', 'closest_cluster': 8.0, 'crimeCluster': 3, 'Murder': 4.9, 'Assault': 159, 'UrbanPop': 67, 'Rape': 29.3}\n",
      "{'State': 1272, 'StateCode': 'Pennsylvania', 'closest_cluster': 4.0, 'crimeCluster': 2, 'Murder': 6.3, 'Assault': 106, 'UrbanPop': 72, 'Rape': 14.9}\n",
      "{'State': 1133, 'StateCode': 'Rhode Island', 'closest_cluster': 2.0, 'crimeCluster': 3, 'Murder': 3.4, 'Assault': 174, 'UrbanPop': 87, 'Rape': 8.3}\n",
      "{'State': 1372, 'StateCode': 'South Carolina', 'closest_cluster': 7.0, 'crimeCluster': 4, 'Murder': 14.4, 'Assault': 279, 'UrbanPop': 48, 'Rape': 22.5}\n",
      "{'State': 1159, 'StateCode': 'South Dakota', 'closest_cluster': 6.0, 'crimeCluster': 1, 'Murder': 3.8, 'Assault': 86, 'UrbanPop': 45, 'Rape': 12.8}\n",
      "{'State': 938, 'StateCode': 'Tennessee', 'closest_cluster': 3.0, 'crimeCluster': 3, 'Murder': 13.2, 'Assault': 188, 'UrbanPop': 59, 'Rape': 26.9}\n",
      "{'State': 517, 'StateCode': 'Texas', 'closest_cluster': 3.0, 'crimeCluster': 3, 'Murder': 12.7, 'Assault': 201, 'UrbanPop': 80, 'Rape': 25.5}\n",
      "{'State': 402, 'StateCode': 'Utah', 'closest_cluster': 4.0, 'crimeCluster': 2, 'Murder': 3.2, 'Assault': 120, 'UrbanPop': 80, 'Rape': 22.9}\n",
      "{'State': 747, 'StateCode': 'Vermont', 'closest_cluster': 0.0, 'crimeCluster': 1, 'Murder': 2.2, 'Assault': 48, 'UrbanPop': 32, 'Rape': 11.2}\n",
      "{'State': 825, 'StateCode': 'Virginia', 'closest_cluster': 8.0, 'crimeCluster': 3, 'Murder': 8.5, 'Assault': 156, 'UrbanPop': 63, 'Rape': 20.7}\n",
      "{'State': 1058, 'StateCode': 'Washington', 'closest_cluster': 8.0, 'crimeCluster': 3, 'Murder': 4.0, 'Assault': 145, 'UrbanPop': 73, 'Rape': 26.2}\n",
      "{'State': 1276, 'StateCode': 'West Virginia', 'closest_cluster': 6.0, 'crimeCluster': 1, 'Murder': 5.7, 'Assault': 81, 'UrbanPop': 39, 'Rape': 9.3}\n",
      "{'State': 957, 'StateCode': 'Wisconsin', 'closest_cluster': 9.0, 'crimeCluster': 1, 'Murder': 2.6, 'Assault': 53, 'UrbanPop': 66, 'Rape': 10.8}\n",
      "{'State': 746, 'StateCode': 'Wyoming', 'closest_cluster': 8.0, 'crimeCluster': 3, 'Murder': 6.8, 'Assault': 161, 'UrbanPop': 60, 'Rape': 15.6}\n",
      "CPU times: user 28 ms, sys: 0 ns, total: 28 ms\n",
      "Wall time: 126 ms\n"
     ]
    }
   ],
   "source": [
    "%%time\n",
    "result = kmeans_predictor.predict(slice)\n",
    "clusters = [r.label['closest_cluster'].float32_tensor.values[0] for r in result]\n",
    "i = 0\n",
    "\n",
    "for r in result:\n",
    "    out = {\n",
    "        \"State\" : crime['State'].iloc[i],\n",
    "        \"StateCode\" : xref['State'].iloc[i],\n",
    "        \"closest_cluster\" : r.label['closest_cluster'].float32_tensor.values[0],\n",
    "        \"crimeCluster\" : crime['crimeCluster'].iloc[i],\n",
    "        \"Murder\" : crime['Murder'].iloc[i],\n",
    "        \"Assault\" : crime['Assault'].iloc[i],\n",
    "        \"UrbanPop\" : crime['UrbanPop'].iloc[i],\n",
    "        \"Rape\" : crime['Rape'].iloc[i]\n",
    "    }\n",
    "    print(out)\n",
    "    i = i + 1\n",
    "    "
   ]
  },
  {
   "cell_type": "code",
   "execution_count": null,
   "metadata": {},
   "outputs": [],
   "source": []
  }
 ],
 "metadata": {
  "kernelspec": {
   "display_name": "conda_python3",
   "language": "python",
   "name": "conda_python3"
  },
  "language_info": {
   "codemirror_mode": {
    "name": "ipython",
    "version": 3
   },
   "file_extension": ".py",
   "mimetype": "text/x-python",
   "name": "python",
   "nbconvert_exporter": "python",
   "pygments_lexer": "ipython3",
   "version": "3.6.4"
  }
 },
 "nbformat": 4,
 "nbformat_minor": 2
}

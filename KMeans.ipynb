{
 "cells": [
  {
   "cell_type": "code",
   "execution_count": 1,
   "metadata": {},
   "outputs": [
    {
     "name": "stdout",
     "output_type": "stream",
     "text": [
      "--2018-06-26 16:01:41--  https://s3.amazonaws.com/crimexyz/crime.csv\n",
      "Resolving s3.amazonaws.com (s3.amazonaws.com)... 54.231.88.10\n",
      "Connecting to s3.amazonaws.com (s3.amazonaws.com)|54.231.88.10|:443... connected.\n",
      "HTTP request sent, awaiting response... 200 OK\n",
      "Length: 1395 (1.4K) [text/csv]\n",
      "Saving to: ‘crime.csv.10’\n",
      "\n",
      "crime.csv.10        100%[===================>]   1.36K  --.-KB/s    in 0s      \n",
      "\n",
      "2018-06-26 16:01:41 (106 MB/s) - ‘crime.csv.10’ saved [1395/1395]\n",
      "\n"
     ]
    }
   ],
   "source": [
    "# This Notebook is an exercise by following Walker Rower tutorial at https://www.bmc.com/blogs/amazon-sagemaker/\n",
    "%sc\n",
    "!wget 'https://s3.amazonaws.com/crimexyz/crime.csv'"
   ]
  },
  {
   "cell_type": "code",
   "execution_count": 2,
   "metadata": {},
   "outputs": [
    {
     "name": "stdout",
     "output_type": "stream",
     "text": [
      "        State  crimeCluster  Murder  Assault  UrbanPop  Rape\n",
      "0     Alabama             4    13.2      236        58  21.2\n",
      "1      Alaska             4    10.0      263        48  44.5\n",
      "2     Arizona             4     8.1      294        80  31.0\n",
      "3    Arkansas             3     8.8      190        50  19.5\n",
      "4  California             4     9.0      276        91  40.6\n"
     ]
    }
   ],
   "source": [
    "import pandas as pd\n",
    "import numpy as np\n",
    "import matplotlib.pyplot as plt\n",
    "crime = pd.read_csv('crime.csv', header=0)\n",
    "print(crime.head())"
   ]
  },
  {
   "cell_type": "code",
   "execution_count": 3,
   "metadata": {},
   "outputs": [],
   "source": [
    "def stateToNumber(s):\n",
    "    l = 0\n",
    "    for x in s:\n",
    "        l = l + int(hex(ord(x)),16)\n",
    "    return l\n"
   ]
  },
  {
   "cell_type": "code",
   "execution_count": 4,
   "metadata": {},
   "outputs": [
    {
     "data": {
      "text/html": [
       "<div>\n",
       "<style scoped>\n",
       "    .dataframe tbody tr th:only-of-type {\n",
       "        vertical-align: middle;\n",
       "    }\n",
       "\n",
       "    .dataframe tbody tr th {\n",
       "        vertical-align: top;\n",
       "    }\n",
       "\n",
       "    .dataframe thead th {\n",
       "        text-align: right;\n",
       "    }\n",
       "</style>\n",
       "<table border=\"1\" class=\"dataframe\">\n",
       "  <thead>\n",
       "    <tr style=\"text-align: right;\">\n",
       "      <th></th>\n",
       "      <th>State</th>\n",
       "      <th>crimeCluster</th>\n",
       "      <th>Murder</th>\n",
       "      <th>Assault</th>\n",
       "      <th>UrbanPop</th>\n",
       "      <th>Rape</th>\n",
       "    </tr>\n",
       "  </thead>\n",
       "  <tbody>\n",
       "    <tr>\n",
       "      <th>0</th>\n",
       "      <td>671</td>\n",
       "      <td>4</td>\n",
       "      <td>13.2</td>\n",
       "      <td>236</td>\n",
       "      <td>58</td>\n",
       "      <td>21.2</td>\n",
       "    </tr>\n",
       "    <tr>\n",
       "      <th>1</th>\n",
       "      <td>589</td>\n",
       "      <td>4</td>\n",
       "      <td>10.0</td>\n",
       "      <td>263</td>\n",
       "      <td>48</td>\n",
       "      <td>44.5</td>\n",
       "    </tr>\n",
       "    <tr>\n",
       "      <th>2</th>\n",
       "      <td>724</td>\n",
       "      <td>4</td>\n",
       "      <td>8.1</td>\n",
       "      <td>294</td>\n",
       "      <td>80</td>\n",
       "      <td>31.0</td>\n",
       "    </tr>\n",
       "    <tr>\n",
       "      <th>3</th>\n",
       "      <td>820</td>\n",
       "      <td>3</td>\n",
       "      <td>8.8</td>\n",
       "      <td>190</td>\n",
       "      <td>50</td>\n",
       "      <td>19.5</td>\n",
       "    </tr>\n",
       "    <tr>\n",
       "      <th>4</th>\n",
       "      <td>1016</td>\n",
       "      <td>4</td>\n",
       "      <td>9.0</td>\n",
       "      <td>276</td>\n",
       "      <td>91</td>\n",
       "      <td>40.6</td>\n",
       "    </tr>\n",
       "  </tbody>\n",
       "</table>\n",
       "</div>"
      ],
      "text/plain": [
       "   State  crimeCluster  Murder  Assault  UrbanPop  Rape\n",
       "0    671             4    13.2      236        58  21.2\n",
       "1    589             4    10.0      263        48  44.5\n",
       "2    724             4     8.1      294        80  31.0\n",
       "3    820             3     8.8      190        50  19.5\n",
       "4   1016             4     9.0      276        91  40.6"
      ]
     },
     "execution_count": 4,
     "metadata": {},
     "output_type": "execute_result"
    }
   ],
   "source": [
    "xref = pd.DataFrame(crime['State'])\n",
    "\n",
    "crime['State']=crime['State'].apply(lambda x: stateToNumber(x))\n",
    "\n",
    "crime.head()\n"
   ]
  },
  {
   "cell_type": "code",
   "execution_count": 5,
   "metadata": {},
   "outputs": [
    {
     "name": "stderr",
     "output_type": "stream",
     "text": [
      "/home/ec2-user/anaconda3/envs/python3/lib/python3.6/site-packages/ipykernel/__main__.py:1: FutureWarning: Method .as_matrix will be removed in a future version. Use .values instead.\n",
      "  if __name__ == '__main__':\n"
     ]
    }
   ],
   "source": [
    "crimeArray = crime.as_matrix().astype(np.float32)"
   ]
  },
  {
   "cell_type": "code",
   "execution_count": 6,
   "metadata": {},
   "outputs": [
    {
     "data": {
      "text/plain": [
       "(50, 6)"
      ]
     },
     "execution_count": 6,
     "metadata": {},
     "output_type": "execute_result"
    }
   ],
   "source": [
    "crimeArray.shape"
   ]
  },
  {
   "cell_type": "code",
   "execution_count": 7,
   "metadata": {},
   "outputs": [
    {
     "name": "stdout",
     "output_type": "stream",
     "text": [
      "arn:aws:iam::007604646786:role/xyzrole\n",
      "The training data will be uploaded to: s3://outputxyz/my_kmeans_example_data\n",
      "The training artifacts will be uploaded to: s3://outputxyz/my_kmeans_example_output\n"
     ]
    }
   ],
   "source": [
    "from sagemaker import KMeans\n",
    "from sagemaker import get_execution_role\n",
    "\n",
    "role = get_execution_role()\n",
    "print(role)\n",
    "\n",
    "## Note: 2018-06-26 On S3 I created the bucket \"outputxyz\" \n",
    "##and two folders there \"my_kmeans_example_data\" and \"my_kmeans_example_output\"\n",
    "\n",
    "bucket = \"outputxyz\"  \n",
    "data_location = \"outputxyz\"\n",
    "\n",
    "## Note: 2018-06-26: Since I got some permissions issues at this point, by following the original post (https://www.bmc.com/blogs/amazon-sagemaker/)\n",
    "## I did the following:\n",
    "### 1) Create, on IAM, a new policy called \"testxyz\" for S3, providing \"List, Read, Write, Permissions management\"\n",
    "### 2) Create a new role, called \"xyzrole\", attached the \"testxyz\" policy to this role.\n",
    "### 3) Set  the \"xzyrole\" role  as the \"IAM role ARN\" for this notebook.\n",
    "\n",
    "#### \n",
    "\n",
    "\n",
    "data_location = 's3://{}/my_kmeans_example_data'.format(bucket)\n",
    "output_location = 's3://{}/my_kmeans_example_output'.format(bucket)\n",
    "\n",
    "print('The training data will be uploaded to: {}'.format(data_location))\n",
    "print('The training artifacts will be uploaded to: {}'.format(output_location))\n",
    "\n",
    "kmeans = KMeans(role=role,\n",
    "               train_instance_count=1,\n",
    "               train_instance_type='ml.c4.8xlarge',\n",
    "               output_path=output_location,\n",
    "               k=10,\n",
    "               data_location=data_location)"
   ]
  },
  {
   "cell_type": "code",
   "execution_count": 8,
   "metadata": {},
   "outputs": [],
   "source": [
    "slice=crimeArray[:,1:5]"
   ]
  },
  {
   "cell_type": "code",
   "execution_count": null,
   "metadata": {},
   "outputs": [
    {
     "name": "stderr",
     "output_type": "stream",
     "text": [
      "INFO:sagemaker:Creating training-job with name: kmeans-2018-06-26-16-01-44-678\n"
     ]
    },
    {
     "name": "stdout",
     "output_type": "stream",
     "text": [
      "..............."
     ]
    }
   ],
   "source": [
    "%%time\n",
    "kmeans.fit(kmeans.record_set(slice))"
   ]
  },
  {
   "cell_type": "code",
   "execution_count": null,
   "metadata": {},
   "outputs": [],
   "source": [
    "%%time\n",
    "kmeans_predictor = kmeans.deploy(initial_instance_count=1,instance_type='ml.m4.xlarge')"
   ]
  },
  {
   "cell_type": "code",
   "execution_count": null,
   "metadata": {},
   "outputs": [],
   "source": [
    "slice=crimeArray[:,1:5]\n",
    "slice.shape\n",
    "slice"
   ]
  },
  {
   "cell_type": "code",
   "execution_count": null,
   "metadata": {},
   "outputs": [],
   "source": [
    "s=slice[1:2]"
   ]
  },
  {
   "cell_type": "code",
   "execution_count": null,
   "metadata": {},
   "outputs": [],
   "source": [
    "%%time\n",
    "result = kmeans_predictor.predict(s)\n",
    "clusters = [r.label['closest_cluster'].float32_tensor.values[0] for r in result]\n",
    "i = 0\n",
    "\n",
    "for r in result:\n",
    "    out = {\n",
    "        \"State\" : crime['State'].iloc[i],\n",
    "        \"StateCode\" : xref['State'].iloc[i],\n",
    "        \"closest_cluster\" : r.label['closest_cluster'].float32_tensor.values[0],\n",
    "        \"crimeCluster\" : crime['crimeCluster'].iloc[i],\n",
    "        \"Murder\" : crime['Murder'].iloc[i],\n",
    "        \"Assault\" : crime['Assault'].iloc[i],\n",
    "        \"UrbanPop\" : crime['UrbanPop'].iloc[i],\n",
    "        \"Rape\" : crime['Rape'].iloc[i]\n",
    "    }\n",
    "    print(out)\n",
    "    i = i + 1\n",
    "    "
   ]
  },
  {
   "cell_type": "code",
   "execution_count": null,
   "metadata": {},
   "outputs": [],
   "source": [
    "%%time\n",
    "result = kmeans_predictor.predict(slice)\n",
    "clusters = [r.label['closest_cluster'].float32_tensor.values[0] for r in result]\n",
    "i = 0\n",
    "\n",
    "for r in result:\n",
    "    out = {\n",
    "        \"State\" : crime['State'].iloc[i],\n",
    "        \"StateCode\" : xref['State'].iloc[i],\n",
    "        \"closest_cluster\" : r.label['closest_cluster'].float32_tensor.values[0],\n",
    "        \"crimeCluster\" : crime['crimeCluster'].iloc[i],\n",
    "        \"Murder\" : crime['Murder'].iloc[i],\n",
    "        \"Assault\" : crime['Assault'].iloc[i],\n",
    "        \"UrbanPop\" : crime['UrbanPop'].iloc[i],\n",
    "        \"Rape\" : crime['Rape'].iloc[i]\n",
    "    }\n",
    "    print(out)\n",
    "    i = i + 1\n",
    "    "
   ]
  },
  {
   "cell_type": "code",
   "execution_count": null,
   "metadata": {},
   "outputs": [],
   "source": []
  }
 ],
 "metadata": {
  "kernelspec": {
   "display_name": "conda_python3",
   "language": "python",
   "name": "conda_python3"
  },
  "language_info": {
   "codemirror_mode": {
    "name": "ipython",
    "version": 3
   },
   "file_extension": ".py",
   "mimetype": "text/x-python",
   "name": "python",
   "nbconvert_exporter": "python",
   "pygments_lexer": "ipython3",
   "version": "3.6.4"
  }
 },
 "nbformat": 4,
 "nbformat_minor": 2
}

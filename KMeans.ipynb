{
 "cells": [
  {
   "cell_type": "code",
   "execution_count": 1,
   "metadata": {},
   "outputs": [
    {
     "name": "stdout",
     "output_type": "stream",
     "text": [
      "--2018-06-26 16:01:41--  https://s3.amazonaws.com/crimexyz/crime.csv\n",
      "Resolving s3.amazonaws.com (s3.amazonaws.com)... 54.231.88.10\n",
      "Connecting to s3.amazonaws.com (s3.amazonaws.com)|54.231.88.10|:443... connected.\n",
      "HTTP request sent, awaiting response... 200 OK\n",
      "Length: 1395 (1.4K) [text/csv]\n",
      "Saving to: ‘crime.csv.10’\n",
      "\n",
      "crime.csv.10        100%[===================>]   1.36K  --.-KB/s    in 0s      \n",
      "\n",
      "2018-06-26 16:01:41 (106 MB/s) - ‘crime.csv.10’ saved [1395/1395]\n",
      "\n"
     ]
    }
   ],
   "source": [
    "# This Notebook is an exercise by following Walker Rower tutorial at https://www.bmc.com/blogs/amazon-sagemaker/\n",
    "%sc\n",
    "!wget 'https://s3.amazonaws.com/crimexyz/crime.csv'"
   ]
  },
  {
   "cell_type": "code",
   "execution_count": 2,
   "metadata": {},
   "outputs": [
    {
     "name": "stdout",
     "output_type": "stream",
     "text": [
      "        State  crimeCluster  Murder  Assault  UrbanPop  Rape\n",
      "0     Alabama             4    13.2      236        58  21.2\n",
      "1      Alaska             4    10.0      263        48  44.5\n",
      "2     Arizona             4     8.1      294        80  31.0\n",
      "3    Arkansas             3     8.8      190        50  19.5\n",
      "4  California             4     9.0      276        91  40.6\n"
     ]
    }
   ],
   "source": [
    "import pandas as pd\n",
    "import numpy as np\n",
    "import matplotlib.pyplot as plt\n",
    "crime = pd.read_csv('crime.csv', header=0)\n",
    "print(crime.head())"
   ]
  },
  {
   "cell_type": "code",
   "execution_count": 3,
   "metadata": {},
   "outputs": [],
   "source": [
    "def stateToNumber(s):\n",
    "    l = 0\n",
    "    for x in s:\n",
    "        l = l + int(hex(ord(x)),16)\n",
    "    return l\n"
   ]
  },
  {
   "cell_type": "code",
   "execution_count": 4,
   "metadata": {},
   "outputs": [
    {
     "data": {
      "text/html": [
       "<div>\n",
       "<style scoped>\n",
       "    .dataframe tbody tr th:only-of-type {\n",
       "        vertical-align: middle;\n",
       "    }\n",
       "\n",
       "    .dataframe tbody tr th {\n",
       "        vertical-align: top;\n",
       "    }\n",
       "\n",
       "    .dataframe thead th {\n",
       "        text-align: right;\n",
       "    }\n",
       "</style>\n",
       "<table border=\"1\" class=\"dataframe\">\n",
       "  <thead>\n",
       "    <tr style=\"text-align: right;\">\n",
       "      <th></th>\n",
       "      <th>State</th>\n",
       "      <th>crimeCluster</th>\n",
       "      <th>Murder</th>\n",
       "      <th>Assault</th>\n",
       "      <th>UrbanPop</th>\n",
       "      <th>Rape</th>\n",
       "    </tr>\n",
       "  </thead>\n",
       "  <tbody>\n",
       "    <tr>\n",
       "      <th>0</th>\n",
       "      <td>671</td>\n",
       "      <td>4</td>\n",
       "      <td>13.2</td>\n",
       "      <td>236</td>\n",
       "      <td>58</td>\n",
       "      <td>21.2</td>\n",
       "    </tr>\n",
       "    <tr>\n",
       "      <th>1</th>\n",
       "      <td>589</td>\n",
       "      <td>4</td>\n",
       "      <td>10.0</td>\n",
       "      <td>263</td>\n",
       "      <td>48</td>\n",
       "      <td>44.5</td>\n",
       "    </tr>\n",
       "    <tr>\n",
       "      <th>2</th>\n",
       "      <td>724</td>\n",
       "      <td>4</td>\n",
       "      <td>8.1</td>\n",
       "      <td>294</td>\n",
       "      <td>80</td>\n",
       "      <td>31.0</td>\n",
       "    </tr>\n",
       "    <tr>\n",
       "      <th>3</th>\n",
       "      <td>820</td>\n",
       "      <td>3</td>\n",
       "      <td>8.8</td>\n",
       "      <td>190</td>\n",
       "      <td>50</td>\n",
       "      <td>19.5</td>\n",
       "    </tr>\n",
       "    <tr>\n",
       "      <th>4</th>\n",
       "      <td>1016</td>\n",
       "      <td>4</td>\n",
       "      <td>9.0</td>\n",
       "      <td>276</td>\n",
       "      <td>91</td>\n",
       "      <td>40.6</td>\n",
       "    </tr>\n",
       "  </tbody>\n",
       "</table>\n",
       "</div>"
      ],
      "text/plain": [
       "   State  crimeCluster  Murder  Assault  UrbanPop  Rape\n",
       "0    671             4    13.2      236        58  21.2\n",
       "1    589             4    10.0      263        48  44.5\n",
       "2    724             4     8.1      294        80  31.0\n",
       "3    820             3     8.8      190        50  19.5\n",
       "4   1016             4     9.0      276        91  40.6"
      ]
     },
     "execution_count": 4,
     "metadata": {},
     "output_type": "execute_result"
    }
   ],
   "source": [
    "xref = pd.DataFrame(crime['State'])\n",
    "\n",
    "crime['State']=crime['State'].apply(lambda x: stateToNumber(x))\n",
    "\n",
    "crime.head()\n"
   ]
  },
  {
   "cell_type": "code",
   "execution_count": 5,
   "metadata": {},
   "outputs": [
    {
     "name": "stderr",
     "output_type": "stream",
     "text": [
      "/home/ec2-user/anaconda3/envs/python3/lib/python3.6/site-packages/ipykernel/__main__.py:1: FutureWarning: Method .as_matrix will be removed in a future version. Use .values instead.\n",
      "  if __name__ == '__main__':\n"
     ]
    }
   ],
   "source": [
    "crimeArray = crime.as_matrix().astype(np.float32)"
   ]
  },
  {
   "cell_type": "code",
   "execution_count": 6,
   "metadata": {},
   "outputs": [
    {
     "data": {
      "text/plain": [
       "(50, 6)"
      ]
     },
     "execution_count": 6,
     "metadata": {},
     "output_type": "execute_result"
    }
   ],
   "source": [
    "crimeArray.shape"
   ]
  },
  {
   "cell_type": "code",
   "execution_count": 7,
   "metadata": {},
   "outputs": [
    {
     "name": "stdout",
     "output_type": "stream",
     "text": [
      "arn:aws:iam::007604646786:role/xyzrole\n",
      "The training data will be uploaded to: s3://outputxyz/my_kmeans_example_data\n",
      "The training artifacts will be uploaded to: s3://outputxyz/my_kmeans_example_output\n"
     ]
    }
   ],
   "source": [
    "from sagemaker import KMeans\n",
    "from sagemaker import get_execution_role\n",
    "\n",
    "role = get_execution_role()\n",
    "print(role)\n",
    "\n",
    "## Note: 2018-06-26 On S3 I created the bucket \"outputxyz\" \n",
    "##and two folders there \"my_kmeans_example_data\" and \"my_kmeans_example_output\"\n",
    "\n",
    "bucket = \"outputxyz\"  \n",
    "data_location = \"outputxyz\"\n",
    "\n",
    "## Note: 2018-06-26: Since I got some permissions issues at this point, by following the original post (https://www.bmc.com/blogs/amazon-sagemaker/)\n",
    "## I did the following:\n",
    "### 1) Create, on IAM, a new policy called \"testxyz\" for S3, providing \"List, Read, Write, Permissions management\"\n",
    "### 2) Create a new role, called \"xyzrole\", attached the \"testxyz\" policy to this role.\n",
    "### 3) Set  the \"xzyrole\" role  as the \"IAM role ARN\" for this notebook.\n",
    "\n",
    "#### \n",
    "\n",
    "\n",
    "data_location = 's3://{}/my_kmeans_example_data'.format(bucket)\n",
    "output_location = 's3://{}/my_kmeans_example_output'.format(bucket)\n",
    "\n",
    "print('The training data will be uploaded to: {}'.format(data_location))\n",
    "print('The training artifacts will be uploaded to: {}'.format(output_location))\n",
    "\n",
    "kmeans = KMeans(role=role,\n",
    "               train_instance_count=1,\n",
    "               train_instance_type='ml.c4.8xlarge',\n",
    "               output_path=output_location,\n",
    "               k=10,\n",
    "               data_location=data_location)"
   ]
  },
  {
   "cell_type": "code",
   "execution_count": 8,
   "metadata": {},
   "outputs": [],
   "source": [
    "slice=crimeArray[:,1:5]"
   ]
  },
  {
   "cell_type": "code",
   "execution_count": 9,
   "metadata": {},
   "outputs": [
    {
     "name": "stderr",
     "output_type": "stream",
     "text": [
      "INFO:sagemaker:Creating training-job with name: kmeans-2018-06-26-16-01-44-678\n"
     ]
    },
    {
     "name": "stdout",
     "output_type": "stream",
     "text": [
      "....................\n",
      "\u001b[31mDocker entrypoint called with argument(s): train\u001b[0m\n",
      "\u001b[31m[06/26/2018 16:04:50 INFO 140138676823872] Reading default configuration from /opt/amazon/lib/python2.7/site-packages/algorithm/default-input.json: {u'_tuning_objective_metric': u'', u'_num_gpus': u'auto', u'local_lloyd_num_trials': u'auto', u'_log_level': u'info', u'_kvstore': u'auto', u'local_lloyd_init_method': u'kmeans++', u'force_dense': u'true', u'epochs': u'1', u'init_method': u'random', u'local_lloyd_tol': u'0.0001', u'local_lloyd_max_iter': u'300', u'_disable_wait_to_read': u'false', u'extra_center_factor': u'auto', u'eval_metrics': u'[\"msd\"]', u'_num_kv_servers': u'1', u'mini_batch_size': u'5000', u'half_life_time_size': u'0', u'_num_slices': u'1'}\u001b[0m\n",
      "\u001b[31m[06/26/2018 16:04:50 INFO 140138676823872] Reading provided configuration from /opt/ml/input/config/hyperparameters.json: {u'feature_dim': u'4', u'k': u'10', u'force_dense': u'True'}\u001b[0m\n",
      "\u001b[31m[06/26/2018 16:04:50 INFO 140138676823872] Final configuration: {u'k': u'10', u'_tuning_objective_metric': u'', u'_num_gpus': u'auto', u'local_lloyd_num_trials': u'auto', u'_log_level': u'info', u'_kvstore': u'auto', u'local_lloyd_init_method': u'kmeans++', u'force_dense': u'True', u'epochs': u'1', u'init_method': u'random', u'feature_dim': u'4', u'local_lloyd_tol': u'0.0001', u'local_lloyd_max_iter': u'300', u'_disable_wait_to_read': u'false', u'extra_center_factor': u'auto', u'eval_metrics': u'[\"msd\"]', u'_num_kv_servers': u'1', u'mini_batch_size': u'5000', u'half_life_time_size': u'0', u'_num_slices': u'1'}\u001b[0m\n",
      "\u001b[31m[06/26/2018 16:04:50 WARNING 140138676823872] Loggers have already been setup.\u001b[0m\n",
      "\u001b[31m[06/26/2018 16:04:50 INFO 140138676823872] Using default worker.\u001b[0m\n",
      "\u001b[31m[06/26/2018 16:04:50 INFO 140138676823872] Loaded iterator creator application/x-recordio-protobuf for content type ('application/x-recordio-protobuf', '1.0')\u001b[0m\n",
      "\u001b[31m[06/26/2018 16:04:50 INFO 140138676823872] Create Store: local\u001b[0m\n",
      "\u001b[31m[06/26/2018 16:04:50 INFO 140138676823872] nvidia-smi took: 0.0252139568329 secs to identify 0 gpus\u001b[0m\n",
      "\u001b[31m[06/26/2018 16:04:50 INFO 140138676823872] Number of GPUs being used: 0\u001b[0m\n",
      "\u001b[31m[06/26/2018 16:04:50 INFO 140138676823872] Setting up with params: {u'k': u'10', u'_tuning_objective_metric': u'', u'_num_gpus': u'auto', u'local_lloyd_num_trials': u'auto', u'_log_level': u'info', u'_kvstore': u'auto', u'local_lloyd_init_method': u'kmeans++', u'force_dense': u'True', u'epochs': u'1', u'init_method': u'random', u'feature_dim': u'4', u'local_lloyd_tol': u'0.0001', u'local_lloyd_max_iter': u'300', u'_disable_wait_to_read': u'false', u'extra_center_factor': u'auto', u'eval_metrics': u'[\"msd\"]', u'_num_kv_servers': u'1', u'mini_batch_size': u'5000', u'half_life_time_size': u'0', u'_num_slices': u'1'}\u001b[0m\n",
      "\u001b[31m/opt/amazon/lib/python2.7/site-packages/ai_algorithms_sdk/config/config_helper.py:172: DeprecationWarning: deprecated\n",
      "  warnings.warn(\"deprecated\", DeprecationWarning)\u001b[0m\n",
      "\u001b[31m/opt/amazon/lib/python2.7/site-packages/ai_algorithms_sdk/config/config_helper.py:122: DeprecationWarning: deprecated\n",
      "  warnings.warn(\"deprecated\", DeprecationWarning)\u001b[0m\n",
      "\u001b[31m[06/26/2018 16:04:50 INFO 140138676823872] Number of GPUs being used: 0\u001b[0m\n",
      "\u001b[31m[06/26/2018 16:04:50 INFO 140138676823872] number of center slices 1\u001b[0m\n",
      "\u001b[31m[06/26/2018 16:04:50 WARNING 140138676823872] Batch size 5000 is bigger than the first batch data. Effective batch size used to initialize is 50\u001b[0m\n",
      "\u001b[31m#metrics {\"Metrics\": {\"Max Batches Seen Between Resets\": {\"count\": 1, \"max\": 1, \"sum\": 1.0, \"min\": 1}, \"Number of Batches Since Last Reset\": {\"count\": 1, \"max\": 1, \"sum\": 1.0, \"min\": 1}, \"Number of Records Since Last Reset\": {\"count\": 1, \"max\": 50, \"sum\": 50.0, \"min\": 50}, \"Total Batches Seen\": {\"count\": 1, \"max\": 1, \"sum\": 1.0, \"min\": 1}, \"Total Records Seen\": {\"count\": 1, \"max\": 50, \"sum\": 50.0, \"min\": 50}, \"Max Records Seen Between Resets\": {\"count\": 1, \"max\": 50, \"sum\": 50.0, \"min\": 50}, \"Reset Count\": {\"count\": 1, \"max\": 0, \"sum\": 0.0, \"min\": 0}}, \"EndTime\": 1530029090.618211, \"Dimensions\": {\"Host\": \"algo-1\", \"Meta\": \"init_train_data_iter\", \"Operation\": \"training\", \"Algorithm\": \"AWS/KMeansWebscale\"}, \"StartTime\": 1530029090.618183}\n",
      "\u001b[0m\n",
      "\u001b[31m[06/26/2018 16:04:50 INFO 140138676823872] processed a total of 50 examples\u001b[0m\n",
      "\u001b[31m[06/26/2018 16:04:50 INFO 140138676823872] #progress_metric: host=algo-1, completed 100 % of epochs\u001b[0m\n",
      "\u001b[31m#metrics {\"Metrics\": {\"Max Batches Seen Between Resets\": {\"count\": 1, \"max\": 1, \"sum\": 1.0, \"min\": 1}, \"Number of Batches Since Last Reset\": {\"count\": 1, \"max\": 1, \"sum\": 1.0, \"min\": 1}, \"Number of Records Since Last Reset\": {\"count\": 1, \"max\": 50, \"sum\": 50.0, \"min\": 50}, \"Total Batches Seen\": {\"count\": 1, \"max\": 2, \"sum\": 2.0, \"min\": 2}, \"Total Records Seen\": {\"count\": 1, \"max\": 100, \"sum\": 100.0, \"min\": 100}, \"Max Records Seen Between Resets\": {\"count\": 1, \"max\": 50, \"sum\": 50.0, \"min\": 50}, \"Reset Count\": {\"count\": 1, \"max\": 1, \"sum\": 1.0, \"min\": 1}}, \"EndTime\": 1530029090.664562, \"Dimensions\": {\"Host\": \"algo-1\", \"Meta\": \"training_data_iter\", \"Operation\": \"training\", \"Algorithm\": \"AWS/KMeansWebscale\", \"epoch\": 0}, \"StartTime\": 1530029090.618415}\n",
      "\u001b[0m\n",
      "\u001b[31m[06/26/2018 16:04:50 INFO 140138676823872] #throughput_metric: host=algo-1, train throughput=1081.41310906 records/second\u001b[0m\n",
      "\u001b[31m[06/26/2018 16:04:50 WARNING 140138676823872] wait_for_all_workers will not sync workers since the kv store is not running distributed\u001b[0m\n",
      "\u001b[31m[06/26/2018 16:04:50 INFO 140138676823872] shrinking 100 centers into 10\u001b[0m\n",
      "\u001b[31m[06/26/2018 16:04:50 INFO 140138676823872] local kmeans attempt #0. Current mean square distance 173.182388\u001b[0m\n",
      "\u001b[31m[06/26/2018 16:04:50 INFO 140138676823872] local kmeans attempt #1. Current mean square distance 178.077011\u001b[0m\n",
      "\u001b[31m[06/26/2018 16:04:50 INFO 140138676823872] local kmeans attempt #2. Current mean square distance 204.481552\u001b[0m\n",
      "\u001b[31m[06/26/2018 16:04:50 INFO 140138676823872] local kmeans attempt #3. Current mean square distance 155.499100\u001b[0m\n",
      "\u001b[31m[06/26/2018 16:04:50 INFO 140138676823872] local kmeans attempt #4. Current mean square distance 165.779449\u001b[0m\n",
      "\u001b[31m[06/26/2018 16:04:50 INFO 140138676823872] local kmeans attempt #5. Current mean square distance 168.437683\u001b[0m\n",
      "\u001b[31m[06/26/2018 16:04:50 INFO 140138676823872] local kmeans attempt #6. Current mean square distance 172.592361\u001b[0m\n",
      "\u001b[31m[06/26/2018 16:04:50 INFO 140138676823872] local kmeans attempt #7. Current mean square distance 177.158478\u001b[0m\n",
      "\u001b[31m[06/26/2018 16:04:50 INFO 140138676823872] local kmeans attempt #8. Current mean square distance 194.128311\u001b[0m\n",
      "\u001b[31m[06/26/2018 16:04:50 INFO 140138676823872] local kmeans attempt #9. Current mean square distance 185.667648\u001b[0m\n",
      "\u001b[31m[06/26/2018 16:04:50 INFO 140138676823872] finished shrinking process. Mean Square Distance = 155\u001b[0m\n",
      "\u001b[31m[06/26/2018 16:04:50 INFO 140138676823872] #quality_metric: host=algo-1, train msd <loss>=155.499099731\u001b[0m\n",
      "\u001b[31m[06/26/2018 16:04:50 INFO 140138676823872] gradient: cluster center took: 35.3201%, (0.016671 secs)\u001b[0m\n",
      "\u001b[31m[06/26/2018 16:04:50 INFO 140138676823872] compute all data-center distances: point norm took: 24.5545%, (0.011590 secs)\u001b[0m\n",
      "\u001b[31m[06/26/2018 16:04:50 INFO 140138676823872] compute all data-center distances: inner product took: 21.9465%, (0.010359 secs)\u001b[0m\n",
      "\u001b[31m[06/26/2018 16:04:50 INFO 140138676823872] predict compute msd took: 5.0169%, (0.002368 secs)\u001b[0m\n",
      "\u001b[31m[06/26/2018 16:04:50 INFO 140138676823872] collect from kv store took: 3.0403%, (0.001435 secs)\u001b[0m\n",
      "\u001b[31m[06/26/2018 16:04:50 INFO 140138676823872] splitting centers key-value pair took: 2.9282%, (0.001382 secs)\u001b[0m\n",
      "\u001b[31m[06/26/2018 16:04:50 INFO 140138676823872] gradient: one_hot took: 2.7140%, (0.001281 secs)\u001b[0m\n",
      "\u001b[31m[06/26/2018 16:04:50 INFO 140138676823872] batch data loading with context took: 2.4685%, (0.001165 secs)\u001b[0m\n",
      "\u001b[31m[06/26/2018 16:04:50 INFO 140138676823872] update state and report convergance took: 0.8941%, (0.000422 secs)\u001b[0m\n",
      "\u001b[31m[06/26/2018 16:04:50 INFO 140138676823872] compute all data-center distances: center norm took: 0.4789%, (0.000226 secs)\u001b[0m\n",
      "\u001b[31m[06/26/2018 16:04:50 INFO 140138676823872] update set-up time took: 0.3243%, (0.000153 secs)\u001b[0m\n",
      "\u001b[31m[06/26/2018 16:04:50 INFO 140138676823872] gradient: cluster size  took: 0.2793%, (0.000132 secs)\u001b[0m\n",
      "\u001b[31m[06/26/2018 16:04:50 INFO 140138676823872] predict minus dist took: 0.0343%, (0.000016 secs)\u001b[0m\n",
      "\u001b[31m[06/26/2018 16:04:50 INFO 140138676823872] TOTAL took: 0.0472002029419\u001b[0m\n",
      "\u001b[31m[06/26/2018 16:04:50 INFO 140138676823872] Number of GPUs being used: 0\u001b[0m\n",
      "\u001b[31m#metrics {\"Metrics\": {\"finalize.time\": {\"count\": 1, \"max\": 191.85805320739746, \"sum\": 191.85805320739746, \"min\": 191.85805320739746}, \"initialize.time\": {\"count\": 1, \"max\": 8.166074752807617, \"sum\": 8.166074752807617, \"min\": 8.166074752807617}, \"model.serialize.time\": {\"count\": 1, \"max\": 0.20599365234375, \"sum\": 0.20599365234375, \"min\": 0.20599365234375}, \"update.time\": {\"count\": 1, \"max\": 45.99905014038086, \"sum\": 45.99905014038086, \"min\": 45.99905014038086}, \"epochs\": {\"count\": 1, \"max\": 1, \"sum\": 1.0, \"min\": 1}, \"state.serialize.time\": {\"count\": 1, \"max\": 0.22220611572265625, \"sum\": 0.22220611572265625, \"min\": 0.22220611572265625}, \"_shrink.time\": {\"count\": 1, \"max\": 190.4759407043457, \"sum\": 190.4759407043457, \"min\": 190.4759407043457}}, \"EndTime\": 1530029090.857199, \"Dimensions\": {\"Host\": \"algo-1\", \"Operation\": \"training\", \"Algorithm\": \"AWS/KMeansWebscale\"}, \"StartTime\": 1530029090.596022}\n",
      "\u001b[0m\n",
      "\u001b[31m[06/26/2018 16:04:50 INFO 140138676823872] Test data is not provided.\u001b[0m\n",
      "\u001b[31m#metrics {\"Metrics\": {\"totaltime\": {\"count\": 1, \"max\": 326.92408561706543, \"sum\": 326.92408561706543, \"min\": 326.92408561706543}, \"setuptime\": {\"count\": 1, \"max\": 14.539003372192383, \"sum\": 14.539003372192383, \"min\": 14.539003372192383}}, \"EndTime\": 1530029090.859281, \"Dimensions\": {\"Host\": \"algo-1\", \"Operation\": \"training\", \"Algorithm\": \"AWS/KMeansWebscale\"}, \"StartTime\": 1530029090.857323}\n",
      "\u001b[0m\n"
     ]
    },
    {
     "name": "stdout",
     "output_type": "stream",
     "text": [
      "===== Job Complete =====\n",
      "Billable seconds: 99\n",
      "CPU times: user 352 ms, sys: 12 ms, total: 364 ms\n",
      "Wall time: 3min 43s\n"
     ]
    }
   ],
   "source": [
    "%%time\n",
    "kmeans.fit(kmeans.record_set(slice))"
   ]
  },
  {
   "cell_type": "code",
   "execution_count": 10,
   "metadata": {},
   "outputs": [
    {
     "name": "stderr",
     "output_type": "stream",
     "text": [
      "INFO:sagemaker:Creating model with name: kmeans-2018-06-26-16-05-26-456\n",
      "INFO:sagemaker:Creating endpoint with name kmeans-2018-06-26-16-01-44-678\n"
     ]
    },
    {
     "name": "stdout",
     "output_type": "stream",
     "text": [
      "---------------------------------------------------------------------------!CPU times: user 292 ms, sys: 16 ms, total: 308 ms\n",
      "Wall time: 6min 19s\n"
     ]
    }
   ],
   "source": [
    "%%time\n",
    "kmeans_predictor = kmeans.deploy(initial_instance_count=1,instance_type='ml.m4.xlarge')"
   ]
  },
  {
   "cell_type": "code",
   "execution_count": 11,
   "metadata": {},
   "outputs": [
    {
     "data": {
      "text/plain": [
       "array([[  4. ,  13.2, 236. ,  58. ],\n",
       "       [  4. ,  10. , 263. ,  48. ],\n",
       "       [  4. ,   8.1, 294. ,  80. ],\n",
       "       [  3. ,   8.8, 190. ,  50. ],\n",
       "       [  4. ,   9. , 276. ,  91. ],\n",
       "       [  3. ,   7.9, 204. ,  78. ],\n",
       "       [  2. ,   3.3, 110. ,  77. ],\n",
       "       [  4. ,   5.9, 238. ,  72. ],\n",
       "       [  4. ,  15.4, 335. ,  80. ],\n",
       "       [  3. ,  17.4, 211. ,  60. ],\n",
       "       [  1. ,   5.3,  46. ,  83. ],\n",
       "       [  2. ,   2.6, 120. ,  54. ],\n",
       "       [  4. ,  10.4, 249. ,  83. ],\n",
       "       [  2. ,   7.2, 113. ,  65. ],\n",
       "       [  1. ,   2.2,  56. ,  57. ],\n",
       "       [  2. ,   6. , 115. ,  66. ],\n",
       "       [  2. ,   9.7, 109. ,  52. ],\n",
       "       [  4. ,  15.4, 249. ,  66. ],\n",
       "       [  1. ,   2.1,  83. ,  51. ],\n",
       "       [  4. ,  11.3, 300. ,  67. ],\n",
       "       [  3. ,   4.4, 149. ,  85. ],\n",
       "       [  4. ,  12.1, 255. ,  74. ],\n",
       "       [  1. ,   2.7,  72. ,  66. ],\n",
       "       [  4. ,  16.1, 259. ,  44. ],\n",
       "       [  3. ,   9. , 178. ,  70. ],\n",
       "       [  2. ,   6. , 109. ,  53. ],\n",
       "       [  2. ,   4.3, 102. ,  62. ],\n",
       "       [  4. ,  12.2, 252. ,  81. ],\n",
       "       [  1. ,   2.1,  57. ,  56. ],\n",
       "       [  3. ,   7.4, 159. ,  89. ],\n",
       "       [  4. ,  11.4, 285. ,  70. ],\n",
       "       [  4. ,  11.1, 254. ,  86. ],\n",
       "       [  4. ,  13. , 337. ,  45. ],\n",
       "       [  1. ,   0.8,  45. ,  44. ],\n",
       "       [  2. ,   7.3, 120. ,  75. ],\n",
       "       [  3. ,   6.6, 151. ,  68. ],\n",
       "       [  3. ,   4.9, 159. ,  67. ],\n",
       "       [  2. ,   6.3, 106. ,  72. ],\n",
       "       [  3. ,   3.4, 174. ,  87. ],\n",
       "       [  4. ,  14.4, 279. ,  48. ],\n",
       "       [  1. ,   3.8,  86. ,  45. ],\n",
       "       [  3. ,  13.2, 188. ,  59. ],\n",
       "       [  3. ,  12.7, 201. ,  80. ],\n",
       "       [  2. ,   3.2, 120. ,  80. ],\n",
       "       [  1. ,   2.2,  48. ,  32. ],\n",
       "       [  3. ,   8.5, 156. ,  63. ],\n",
       "       [  3. ,   4. , 145. ,  73. ],\n",
       "       [  1. ,   5.7,  81. ,  39. ],\n",
       "       [  1. ,   2.6,  53. ,  66. ],\n",
       "       [  3. ,   6.8, 161. ,  60. ]], dtype=float32)"
      ]
     },
     "execution_count": 11,
     "metadata": {},
     "output_type": "execute_result"
    }
   ],
   "source": [
    "slice=crimeArray[:,1:5]\n",
    "slice.shape\n",
    "slice"
   ]
  },
  {
   "cell_type": "code",
   "execution_count": 12,
   "metadata": {},
   "outputs": [],
   "source": [
    "s=slice[1:2]"
   ]
  },
  {
   "cell_type": "code",
   "execution_count": 13,
   "metadata": {},
   "outputs": [
    {
     "name": "stdout",
     "output_type": "stream",
     "text": [
      "{'State': 671, 'StateCode': 'Alabama', 'closest_cluster': 2.0, 'crimeCluster': 4, 'Murder': 13.2, 'Assault': 236, 'UrbanPop': 58, 'Rape': 21.2}\n",
      "CPU times: user 12 ms, sys: 0 ns, total: 12 ms\n",
      "Wall time: 244 ms\n"
     ]
    }
   ],
   "source": [
    "%%time\n",
    "result = kmeans_predictor.predict(s)\n",
    "clusters = [r.label['closest_cluster'].float32_tensor.values[0] for r in result]\n",
    "i = 0\n",
    "\n",
    "for r in result:\n",
    "    out = {\n",
    "        \"State\" : crime['State'].iloc[i],\n",
    "        \"StateCode\" : xref['State'].iloc[i],\n",
    "        \"closest_cluster\" : r.label['closest_cluster'].float32_tensor.values[0],\n",
    "        \"crimeCluster\" : crime['crimeCluster'].iloc[i],\n",
    "        \"Murder\" : crime['Murder'].iloc[i],\n",
    "        \"Assault\" : crime['Assault'].iloc[i],\n",
    "        \"UrbanPop\" : crime['UrbanPop'].iloc[i],\n",
    "        \"Rape\" : crime['Rape'].iloc[i]\n",
    "    }\n",
    "    print(out)\n",
    "    i = i + 1\n",
    "    "
   ]
  },
  {
   "cell_type": "code",
   "execution_count": 14,
   "metadata": {},
   "outputs": [
    {
     "name": "stdout",
     "output_type": "stream",
     "text": [
      "{'State': 671, 'StateCode': 'Alabama', 'closest_cluster': 8.0, 'crimeCluster': 4, 'Murder': 13.2, 'Assault': 236, 'UrbanPop': 58, 'Rape': 21.2}\n",
      "{'State': 589, 'StateCode': 'Alaska', 'closest_cluster': 2.0, 'crimeCluster': 4, 'Murder': 10.0, 'Assault': 263, 'UrbanPop': 48, 'Rape': 44.5}\n",
      "{'State': 724, 'StateCode': 'Arizona', 'closest_cluster': 3.0, 'crimeCluster': 4, 'Murder': 8.1, 'Assault': 294, 'UrbanPop': 80, 'Rape': 31.0}\n",
      "{'State': 820, 'StateCode': 'Arkansas', 'closest_cluster': 0.0, 'crimeCluster': 3, 'Murder': 8.8, 'Assault': 190, 'UrbanPop': 50, 'Rape': 19.5}\n",
      "{'State': 1016, 'StateCode': 'California', 'closest_cluster': 3.0, 'crimeCluster': 4, 'Murder': 9.0, 'Assault': 276, 'UrbanPop': 91, 'Rape': 40.6}\n",
      "{'State': 819, 'StateCode': 'Colorado', 'closest_cluster': 0.0, 'crimeCluster': 3, 'Murder': 7.9, 'Assault': 204, 'UrbanPop': 78, 'Rape': 38.7}\n",
      "{'State': 1151, 'StateCode': 'Connecticut', 'closest_cluster': 4.0, 'crimeCluster': 2, 'Murder': 3.3, 'Assault': 110, 'UrbanPop': 77, 'Rape': 11.1}\n",
      "{'State': 805, 'StateCode': 'Delaware', 'closest_cluster': 8.0, 'crimeCluster': 4, 'Murder': 5.9, 'Assault': 238, 'UrbanPop': 72, 'Rape': 15.8}\n",
      "{'State': 705, 'StateCode': 'Florida', 'closest_cluster': 6.0, 'crimeCluster': 4, 'Murder': 15.4, 'Assault': 335, 'UrbanPop': 80, 'Rape': 31.9}\n",
      "{'State': 702, 'StateCode': 'Georgia', 'closest_cluster': 0.0, 'crimeCluster': 3, 'Murder': 17.4, 'Assault': 211, 'UrbanPop': 60, 'Rape': 25.8}\n",
      "{'State': 595, 'StateCode': 'Hawaii', 'closest_cluster': 7.0, 'crimeCluster': 1, 'Murder': 5.3, 'Assault': 46, 'UrbanPop': 83, 'Rape': 20.2}\n",
      "{'State': 485, 'StateCode': 'Idaho', 'closest_cluster': 4.0, 'crimeCluster': 2, 'Murder': 2.6, 'Assault': 120, 'UrbanPop': 54, 'Rape': 14.2}\n",
      "{'State': 835, 'StateCode': 'Illinois', 'closest_cluster': 8.0, 'crimeCluster': 4, 'Murder': 10.4, 'Assault': 249, 'UrbanPop': 83, 'Rape': 24.0}\n",
      "{'State': 692, 'StateCode': 'Indiana', 'closest_cluster': 4.0, 'crimeCluster': 2, 'Murder': 7.2, 'Assault': 113, 'UrbanPop': 65, 'Rape': 21.0}\n",
      "{'State': 400, 'StateCode': 'Iowa', 'closest_cluster': 9.0, 'crimeCluster': 1, 'Murder': 2.2, 'Assault': 56, 'UrbanPop': 57, 'Rape': 11.3}\n",
      "{'State': 609, 'StateCode': 'Kansas', 'closest_cluster': 4.0, 'crimeCluster': 2, 'Murder': 6.0, 'Assault': 115, 'UrbanPop': 66, 'Rape': 18.0}\n",
      "{'State': 846, 'StateCode': 'Kentucky', 'closest_cluster': 4.0, 'crimeCluster': 2, 'Murder': 9.7, 'Assault': 109, 'UrbanPop': 52, 'Rape': 16.3}\n",
      "{'State': 933, 'StateCode': 'Louisiana', 'closest_cluster': 8.0, 'crimeCluster': 4, 'Murder': 15.4, 'Assault': 249, 'UrbanPop': 66, 'Rape': 22.2}\n",
      "{'State': 490, 'StateCode': 'Maine', 'closest_cluster': 1.0, 'crimeCluster': 1, 'Murder': 2.1, 'Assault': 83, 'UrbanPop': 51, 'Rape': 7.8}\n",
      "{'State': 824, 'StateCode': 'Maryland', 'closest_cluster': 3.0, 'crimeCluster': 4, 'Murder': 11.3, 'Assault': 300, 'UrbanPop': 67, 'Rape': 27.8}\n",
      "{'State': 1384, 'StateCode': 'Massachusetts', 'closest_cluster': 5.0, 'crimeCluster': 3, 'Murder': 4.4, 'Assault': 149, 'UrbanPop': 85, 'Rape': 16.3}\n",
      "{'State': 800, 'StateCode': 'Michigan', 'closest_cluster': 8.0, 'crimeCluster': 4, 'Murder': 12.1, 'Assault': 255, 'UrbanPop': 74, 'Rape': 35.1}\n",
      "{'State': 942, 'StateCode': 'Minnesota', 'closest_cluster': 1.0, 'crimeCluster': 1, 'Murder': 2.7, 'Assault': 72, 'UrbanPop': 66, 'Rape': 14.9}\n",
      "{'State': 1181, 'StateCode': 'Mississippi', 'closest_cluster': 2.0, 'crimeCluster': 4, 'Murder': 16.1, 'Assault': 259, 'UrbanPop': 44, 'Rape': 17.1}\n",
      "{'State': 859, 'StateCode': 'Missouri', 'closest_cluster': 0.0, 'crimeCluster': 3, 'Murder': 9.0, 'Assault': 178, 'UrbanPop': 70, 'Rape': 28.2}\n",
      "{'State': 718, 'StateCode': 'Montana', 'closest_cluster': 4.0, 'crimeCluster': 2, 'Murder': 6.0, 'Assault': 109, 'UrbanPop': 53, 'Rape': 16.4}\n",
      "{'State': 807, 'StateCode': 'Nebraska', 'closest_cluster': 4.0, 'crimeCluster': 2, 'Murder': 4.3, 'Assault': 102, 'UrbanPop': 62, 'Rape': 16.5}\n",
      "{'State': 591, 'StateCode': 'Nevada', 'closest_cluster': 8.0, 'crimeCluster': 4, 'Murder': 12.2, 'Assault': 252, 'UrbanPop': 81, 'Rape': 46.0}\n",
      "{'State': 1259, 'StateCode': 'New Hampshire', 'closest_cluster': 9.0, 'crimeCluster': 1, 'Murder': 2.1, 'Assault': 57, 'UrbanPop': 56, 'Rape': 9.5}\n",
      "{'State': 956, 'StateCode': 'New Jersey', 'closest_cluster': 5.0, 'crimeCluster': 3, 'Murder': 7.4, 'Assault': 159, 'UrbanPop': 89, 'Rape': 18.8}\n",
      "{'State': 943, 'StateCode': 'New Mexico', 'closest_cluster': 3.0, 'crimeCluster': 4, 'Murder': 11.4, 'Assault': 285, 'UrbanPop': 70, 'Rape': 32.1}\n",
      "{'State': 751, 'StateCode': 'New York', 'closest_cluster': 8.0, 'crimeCluster': 4, 'Murder': 11.1, 'Assault': 254, 'UrbanPop': 86, 'Rape': 26.1}\n",
      "{'State': 1364, 'StateCode': 'North Carolina', 'closest_cluster': 6.0, 'crimeCluster': 4, 'Murder': 13.0, 'Assault': 337, 'UrbanPop': 45, 'Rape': 16.1}\n",
      "{'State': 1151, 'StateCode': 'North Dakota', 'closest_cluster': 9.0, 'crimeCluster': 1, 'Murder': 0.8, 'Assault': 45, 'UrbanPop': 44, 'Rape': 7.3}\n",
      "{'State': 399, 'StateCode': 'Ohio', 'closest_cluster': 4.0, 'crimeCluster': 2, 'Murder': 7.3, 'Assault': 120, 'UrbanPop': 75, 'Rape': 21.4}\n",
      "{'State': 812, 'StateCode': 'Oklahoma', 'closest_cluster': 5.0, 'crimeCluster': 3, 'Murder': 6.6, 'Assault': 151, 'UrbanPop': 68, 'Rape': 20.0}\n",
      "{'State': 618, 'StateCode': 'Oregon', 'closest_cluster': 5.0, 'crimeCluster': 3, 'Murder': 4.9, 'Assault': 159, 'UrbanPop': 67, 'Rape': 29.3}\n",
      "{'State': 1272, 'StateCode': 'Pennsylvania', 'closest_cluster': 4.0, 'crimeCluster': 2, 'Murder': 6.3, 'Assault': 106, 'UrbanPop': 72, 'Rape': 14.9}\n",
      "{'State': 1133, 'StateCode': 'Rhode Island', 'closest_cluster': 5.0, 'crimeCluster': 3, 'Murder': 3.4, 'Assault': 174, 'UrbanPop': 87, 'Rape': 8.3}\n",
      "{'State': 1372, 'StateCode': 'South Carolina', 'closest_cluster': 2.0, 'crimeCluster': 4, 'Murder': 14.4, 'Assault': 279, 'UrbanPop': 48, 'Rape': 22.5}\n",
      "{'State': 1159, 'StateCode': 'South Dakota', 'closest_cluster': 1.0, 'crimeCluster': 1, 'Murder': 3.8, 'Assault': 86, 'UrbanPop': 45, 'Rape': 12.8}\n",
      "{'State': 938, 'StateCode': 'Tennessee', 'closest_cluster': 0.0, 'crimeCluster': 3, 'Murder': 13.2, 'Assault': 188, 'UrbanPop': 59, 'Rape': 26.9}\n",
      "{'State': 517, 'StateCode': 'Texas', 'closest_cluster': 0.0, 'crimeCluster': 3, 'Murder': 12.7, 'Assault': 201, 'UrbanPop': 80, 'Rape': 25.5}\n",
      "{'State': 402, 'StateCode': 'Utah', 'closest_cluster': 4.0, 'crimeCluster': 2, 'Murder': 3.2, 'Assault': 120, 'UrbanPop': 80, 'Rape': 22.9}\n",
      "{'State': 747, 'StateCode': 'Vermont', 'closest_cluster': 9.0, 'crimeCluster': 1, 'Murder': 2.2, 'Assault': 48, 'UrbanPop': 32, 'Rape': 11.2}\n",
      "{'State': 825, 'StateCode': 'Virginia', 'closest_cluster': 5.0, 'crimeCluster': 3, 'Murder': 8.5, 'Assault': 156, 'UrbanPop': 63, 'Rape': 20.7}\n",
      "{'State': 1058, 'StateCode': 'Washington', 'closest_cluster': 5.0, 'crimeCluster': 3, 'Murder': 4.0, 'Assault': 145, 'UrbanPop': 73, 'Rape': 26.2}\n",
      "{'State': 1276, 'StateCode': 'West Virginia', 'closest_cluster': 1.0, 'crimeCluster': 1, 'Murder': 5.7, 'Assault': 81, 'UrbanPop': 39, 'Rape': 9.3}\n",
      "{'State': 957, 'StateCode': 'Wisconsin', 'closest_cluster': 7.0, 'crimeCluster': 1, 'Murder': 2.6, 'Assault': 53, 'UrbanPop': 66, 'Rape': 10.8}\n",
      "{'State': 746, 'StateCode': 'Wyoming', 'closest_cluster': 5.0, 'crimeCluster': 3, 'Murder': 6.8, 'Assault': 161, 'UrbanPop': 60, 'Rape': 15.6}\n",
      "CPU times: user 20 ms, sys: 0 ns, total: 20 ms\n",
      "Wall time: 135 ms\n"
     ]
    }
   ],
   "source": [
    "%%time\n",
    "result = kmeans_predictor.predict(slice)\n",
    "clusters = [r.label['closest_cluster'].float32_tensor.values[0] for r in result]\n",
    "i = 0\n",
    "\n",
    "for r in result:\n",
    "    out = {\n",
    "        \"State\" : crime['State'].iloc[i],\n",
    "        \"StateCode\" : xref['State'].iloc[i],\n",
    "        \"closest_cluster\" : r.label['closest_cluster'].float32_tensor.values[0],\n",
    "        \"crimeCluster\" : crime['crimeCluster'].iloc[i],\n",
    "        \"Murder\" : crime['Murder'].iloc[i],\n",
    "        \"Assault\" : crime['Assault'].iloc[i],\n",
    "        \"UrbanPop\" : crime['UrbanPop'].iloc[i],\n",
    "        \"Rape\" : crime['Rape'].iloc[i]\n",
    "    }\n",
    "    print(out)\n",
    "    i = i + 1\n",
    "    "
   ]
  },
  {
   "cell_type": "code",
   "execution_count": null,
   "metadata": {},
   "outputs": [],
   "source": []
  }
 ],
 "metadata": {
  "kernelspec": {
   "display_name": "conda_python3",
   "language": "python",
   "name": "conda_python3"
  },
  "language_info": {
   "codemirror_mode": {
    "name": "ipython",
    "version": 3
   },
   "file_extension": ".py",
   "mimetype": "text/x-python",
   "name": "python",
   "nbconvert_exporter": "python",
   "pygments_lexer": "ipython3",
   "version": "3.6.4"
  }
 },
 "nbformat": 4,
 "nbformat_minor": 2
}
